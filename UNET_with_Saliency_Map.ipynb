{
  "nbformat": 4,
  "nbformat_minor": 0,
  "metadata": {
    "colab": {
      "provenance": [],
      "gpuType": "T4"
    },
    "kernelspec": {
      "name": "python3",
      "display_name": "Python 3"
    },
    "language_info": {
      "name": "python"
    },
    "accelerator": "GPU"
  },
  "cells": [
    {
      "cell_type": "markdown",
      "source": [
        "# **UNET MODEL**"
      ],
      "metadata": {
        "id": "GNyavbYI_69T"
      }
    },
    {
      "cell_type": "code",
      "execution_count": 1,
      "metadata": {
        "id": "JKYEIAKmvOcd"
      },
      "outputs": [],
      "source": [
        "import numpy as np\n",
        "\n",
        "from keras.models import Model\n",
        "from keras.layers import Input, Conv2D, MaxPooling2D, UpSampling2D, Conv2DTranspose, multiply, concatenate, Lambda, add, Activation\n",
        "from keras.optimizers import *\n",
        "import keras.backend as K\n",
        "from keras.callbacks import EarlyStopping\n",
        "from keras.preprocessing import image\n",
        "\n",
        "import tensorflow as tf\n",
        "\n",
        "import matplotlib.pyplot as plt\n",
        "%matplotlib inline\n",
        "\n",
        "from sklearn.metrics import roc_curve, roc_auc_score, confusion_matrix\n",
        "from sklearn.model_selection import KFold\n",
        "\n",
        "import os\n",
        "from os import listdir\n",
        "\n",
        "import natsort # it may need to be installed by 'pip install natsort'\n",
        "\n",
        "import datetime\n",
        "now = datetime.datetime.now"
      ]
    },
    {
      "cell_type": "code",
      "metadata": {
        "id": "mkO5IJkQT2Vc"
      },
      "source": [
        "import numpy as np # linear algebra\n",
        "import pandas as pd # data processing, CSV file I/O (e.g. pd.read_csv)\n",
        "\n",
        "# Input data files are available in the read-only \"../input/\" directory\n",
        "# For example, running this (by clicking run or pressing Shift+Enter) will list all files under the input directory\n",
        "\n",
        "import os\n",
        "for dirname, _, filenames in os.walk('/kaggle/input'):\n",
        "    for filename in filenames:\n",
        "        pass\n",
        "       # print(os.path.join(dirname, filename))"
      ],
      "execution_count": 2,
      "outputs": []
    },
    {
      "cell_type": "code",
      "source": [
        "import os\n",
        "import pandas as pd\n",
        "import numpy as np\n",
        "import matplotlib.pyplot as plt\n",
        "%matplotlib inline\n",
        "import seaborn as sns\n",
        "import cv2\n",
        "from PIL import Image\n",
        "import tensorflow as ft\n",
        "import glob"
      ],
      "metadata": {
        "id": "O5JM8K2apFa-"
      },
      "execution_count": 3,
      "outputs": []
    },
    {
      "cell_type": "code",
      "source": [
        "benign ='Dataset_BUSI_with_GT/benign'\n",
        "malignant='Dataset_BUSI_with_GT/malignant'\n",
        "normal='Dataset_BUSI_with_GT/normal'"
      ],
      "metadata": {
        "id": "8EVW3Tx6pIGB"
      },
      "execution_count": 6,
      "outputs": []
    },
    {
      "cell_type": "code",
      "source": [
        "count_benign=len(os.listdir(benign))\n",
        "count_malignant=len(os.listdir(malignant))\n",
        "count_normal=len(os.listdir(normal))"
      ],
      "metadata": {
        "id": "oHyn3BRRpJ5w"
      },
      "execution_count": 7,
      "outputs": []
    },
    {
      "cell_type": "code",
      "source": [
        "# Get the list of all the images\n",
        "bening_cases = glob.glob(benign+ '/*')\n",
        "malignant_cases =glob.glob(malignant+ '/*')\n",
        "normal_cases = glob.glob(normal+ '/*')\n",
        "\n",
        "# An empty list. We will insert the data into this list in (img_path, label) format\n",
        "exclude=[]\n",
        "train_data_mask = []\n",
        "train_data_img=[]\n",
        "# Go through all the normal cases. The label for these cases will be 0\n",
        "for img in normal_cases:\n",
        "    if img.endswith('_mask.png'):\n",
        "        train_data_mask.append(img)\n",
        "    elif img.endswith('_mask_1.png') or img.endswith('_mask_2.png'):\n",
        "        exclude.append(img)\n",
        "    else :\n",
        "        train_data_img.append(img)\n",
        "\n",
        "# Go through all the bening cases. The label for these cases will be 1\n",
        "for img in bening_cases:\n",
        "    if img.endswith('_mask.png'):\n",
        "        train_data_mask.append(img)\n",
        "    elif img.endswith('_mask_1.png') or img.endswith('_mask_2.png'):\n",
        "        exclude.append(img)\n",
        "    else:\n",
        "        train_data_img.append(img)\n",
        "\n",
        "# Go through all the malignant cases. The label for these cases will be 1\n",
        "for img in malignant_cases:\n",
        "\n",
        "    if img.endswith('_mask.png'):\n",
        "        train_data_mask.append(img)\n",
        "    elif img.endswith('_mask_1.png') or img.endswith('_mask_2.png'):\n",
        "        exclude.append(img)\n",
        "    else:\n",
        "        train_data_img.append(img)"
      ],
      "metadata": {
        "id": "GwNXchdipLni"
      },
      "execution_count": 8,
      "outputs": []
    },
    {
      "cell_type": "code",
      "source": [
        "train_data_img = sorted(train_data_img)\n",
        "train_data_mask = sorted(train_data_mask)"
      ],
      "metadata": {
        "id": "U7VvzoOFpnzb"
      },
      "execution_count": 9,
      "outputs": []
    },
    {
      "cell_type": "code",
      "source": [
        "len(train_data_img), len(train_data_mask), len(exclude)"
      ],
      "metadata": {
        "colab": {
          "base_uri": "https://localhost:8080/",
          "height": 0
        },
        "id": "0j6uEJanpprx",
        "outputId": "7da659b3-db89-4581-881a-d262d0437407"
      },
      "execution_count": 10,
      "outputs": [
        {
          "output_type": "execute_result",
          "data": {
            "text/plain": [
              "(780, 780, 18)"
            ]
          },
          "metadata": {},
          "execution_count": 10
        }
      ]
    },
    {
      "cell_type": "code",
      "source": [
        "train_data_img[100]"
      ],
      "metadata": {
        "colab": {
          "base_uri": "https://localhost:8080/",
          "height": 35
        },
        "id": "4M00wQT8prGp",
        "outputId": "13b2b9f9-bb5e-4ea7-eb41-0d02cc2bc7bc"
      },
      "execution_count": 11,
      "outputs": [
        {
          "output_type": "execute_result",
          "data": {
            "text/plain": [
              "'Dataset_BUSI_with_GT/benign/benign (19).png'"
            ],
            "application/vnd.google.colaboratory.intrinsic+json": {
              "type": "string"
            }
          },
          "metadata": {},
          "execution_count": 11
        }
      ]
    },
    {
      "cell_type": "code",
      "source": [
        "train_data_mask[100]"
      ],
      "metadata": {
        "colab": {
          "base_uri": "https://localhost:8080/",
          "height": 35
        },
        "id": "OV97VFcZpsuZ",
        "outputId": "2ae553bb-536f-4216-eb32-33adf5b201cf"
      },
      "execution_count": 12,
      "outputs": [
        {
          "output_type": "execute_result",
          "data": {
            "text/plain": [
              "'Dataset_BUSI_with_GT/benign/benign (19)_mask.png'"
            ],
            "application/vnd.google.colaboratory.intrinsic+json": {
              "type": "string"
            }
          },
          "metadata": {},
          "execution_count": 12
        }
      ]
    },
    {
      "cell_type": "code",
      "source": [
        "images=[]\n",
        "masks=[]\n",
        "size_x=128\n",
        "size_y=128\n",
        "\n",
        "for every_img_path in train_data_img:\n",
        "    img=cv2.imread(every_img_path,cv2.IMREAD_COLOR)\n",
        "    img=cv2.resize(img,(size_y, size_x))\n",
        "    images.append(img)\n",
        "\n",
        "for every_mask_path in train_data_mask:\n",
        "    mask=cv2.imread(every_mask_path,0)\n",
        "    mask=cv2.resize(mask,(size_y,size_x))\n",
        "    masks.append(mask)\n",
        "\n",
        "images = np.array(images)\n",
        "masks = np.array(masks)"
      ],
      "metadata": {
        "id": "-Q5a7Is6pum7"
      },
      "execution_count": 13,
      "outputs": []
    },
    {
      "cell_type": "code",
      "source": [
        "x=images/255\n",
        "y=masks/255"
      ],
      "metadata": {
        "id": "PPrYzTiPpwIx"
      },
      "execution_count": 14,
      "outputs": []
    },
    {
      "cell_type": "code",
      "source": [
        "import random\n",
        "from skimage.io import imshow\n",
        "\n",
        "########## Displaying random image from X_train and Y_train #########\n",
        "random_num = random.randint(0,516)\n",
        "imshow(x[random_num])\n",
        "plt.show()\n",
        "imshow(y[random_num])\n",
        "plt.show()\n",
        "\n",
        "test_img = x[random_num]\n",
        "test_img2 = y[random_num]\n",
        "print(test_img.min(), test_img.max())\n",
        "print(test_img.shape)\n",
        "\n",
        "print(test_img2.min(), test_img2.max())\n",
        "print(test_img2.shape)"
      ],
      "metadata": {
        "colab": {
          "base_uri": "https://localhost:8080/",
          "height": 1000
        },
        "id": "mGBaAo2UqnAb",
        "outputId": "735c0135-cc7c-4e0f-a65c-a597548d9f9f"
      },
      "execution_count": 15,
      "outputs": [
        {
          "output_type": "display_data",
          "data": {
            "text/plain": [
              "<Figure size 640x480 with 1 Axes>"
            ],
            "image/png": "[encoded data removed]"
          },
          "metadata": {}
        },
        {
          "output_type": "display_data",
          "data": {
            "text/plain": [
              "<Figure size 640x480 with 1 Axes>"
            ],
            "image/png": "[encoded data removed]"
          },
          "metadata": {}
        },
        {
          "output_type": "stream",
          "name": "stdout",
          "text": [
            "0.08627450980392157 0.996078431372549\n",
            "(128, 128, 3)\n",
            "0.0 1.0\n",
            "(128, 128)\n"
          ]
        }
      ]
    },
    {
      "cell_type": "code",
      "source": [
        "from sklearn.model_selection import train_test_split\n",
        "x_train, x_val, y_train, y_val = train_test_split(x, y, test_size=0.2, random_state=42)"
      ],
      "metadata": {
        "id": "APN52XZQqrjn"
      },
      "execution_count": 16,
      "outputs": []
    },
    {
      "cell_type": "code",
      "source": [
        "from keras.layers import Input, Conv2D, MaxPooling2D, UpSampling2D, concatenate, Conv2DTranspose, BatchNormalization, Dropout, Lambda\n",
        "from keras.models import Model\n",
        "\n",
        "IMG_WIDTH = 128\n",
        "IMG_HEIGHT = 128\n",
        "IMG_CHANNELS = 3\n",
        "\n",
        "def simple_unet_model(IMG_HEIGHT, IMG_WIDTH, IMG_CHANNELS):\n",
        "    inputs = Input((IMG_HEIGHT, IMG_WIDTH, IMG_CHANNELS))\n",
        "    #s = Lambda(lambda x: x / 255)(inputs)   #No need for this if we normalize our inputs beforehand\n",
        "    s = inputs\n",
        "\n",
        "    #Contraction path\n",
        "    c1 = Conv2D(16, (3, 3), activation='relu', kernel_initializer='he_normal', padding='same')(s)\n",
        "    c1 = Dropout(0.1)(c1)\n",
        "    c1 = Conv2D(16, (3, 3), activation='relu', kernel_initializer='he_normal', padding='same')(c1)\n",
        "    p1 = MaxPooling2D((2, 2))(c1)\n",
        "\n",
        "    c2 = Conv2D(32, (3, 3), activation='relu', kernel_initializer='he_normal', padding='same')(p1)\n",
        "    c2 = Dropout(0.1)(c2)\n",
        "    c2 = Conv2D(32, (3, 3), activation='relu', kernel_initializer='he_normal', padding='same')(c2)\n",
        "    p2 = MaxPooling2D((2, 2))(c2)\n",
        "\n",
        "    c3 = Conv2D(64, (3, 3), activation='relu', kernel_initializer='he_normal', padding='same')(p2)\n",
        "    c3 = Dropout(0.2)(c3)\n",
        "    c3 = Conv2D(64, (3, 3), activation='relu', kernel_initializer='he_normal', padding='same')(c3)\n",
        "    p3 = MaxPooling2D((2, 2))(c3)\n",
        "\n",
        "    c4 = Conv2D(128, (3, 3), activation='relu', kernel_initializer='he_normal', padding='same')(p3)\n",
        "    c4 = Dropout(0.2)(c4)\n",
        "    c4 = Conv2D(128, (3, 3), activation='relu', kernel_initializer='he_normal', padding='same')(c4)\n",
        "    p4 = MaxPooling2D(pool_size=(2, 2))(c4)\n",
        "\n",
        "    c5 = Conv2D(256, (3, 3), activation='relu', kernel_initializer='he_normal', padding='same')(p4)\n",
        "    c5 = Dropout(0.3)(c5)\n",
        "    c5 = Conv2D(256, (3, 3), activation='relu', kernel_initializer='he_normal', padding='same')(c5)\n",
        "\n",
        "    #Expansive path\n",
        "    u6 = Conv2DTranspose(128, (2, 2), strides=(2, 2), padding='same')(c5)\n",
        "    u6 = concatenate([u6, c4])\n",
        "    c6 = Conv2D(128, (3, 3), activation='relu', kernel_initializer='he_normal', padding='same')(u6)\n",
        "    c6 = Dropout(0.2)(c6)\n",
        "    c6 = Conv2D(128, (3, 3), activation='relu', kernel_initializer='he_normal', padding='same')(c6)\n",
        "\n",
        "    u7 = Conv2DTranspose(64, (2, 2), strides=(2, 2), padding='same')(c6)\n",
        "    u7 = concatenate([u7, c3])\n",
        "    c7 = Conv2D(64, (3, 3), activation='relu', kernel_initializer='he_normal', padding='same')(u7)\n",
        "    c7 = Dropout(0.2)(c7)\n",
        "    c7 = Conv2D(64, (3, 3), activation='relu', kernel_initializer='he_normal', padding='same')(c7)\n",
        "\n",
        "    u8 = Conv2DTranspose(32, (2, 2), strides=(2, 2), padding='same')(c7)\n",
        "    u8 = concatenate([u8, c2])\n",
        "    c8 = Conv2D(32, (3, 3), activation='relu', kernel_initializer='he_normal', padding='same')(u8)\n",
        "    c8 = Dropout(0.1)(c8)\n",
        "    c8 = Conv2D(32, (3, 3), activation='relu', kernel_initializer='he_normal', padding='same')(c8)\n",
        "\n",
        "    u9 = Conv2DTranspose(16, (2, 2), strides=(2, 2), padding='same')(c8)\n",
        "    u9 = concatenate([u9, c1], axis=3)\n",
        "    c9 = Conv2D(16, (3, 3), activation='relu', kernel_initializer='he_normal', padding='same')(u9)\n",
        "    c9 = Dropout(0.1)(c9)\n",
        "    c9 = Conv2D(16, (3, 3), activation='relu', kernel_initializer='he_normal', padding='same')(c9)\n",
        "\n",
        "    outputs = Conv2D(1, (1, 1), activation='sigmoid')(c9)\n",
        "    outputs = Activation('linear')(outputs)  # Add this line for saliency map\n",
        "\n",
        "\n",
        "    model = Model(inputs=[inputs], outputs=[outputs])\n",
        "    # model.compile(optimizer='adam', loss='binary_crossentropy', metrics=['accuracy'])\n",
        "    # model.summary()\n",
        "\n",
        "    return model"
      ],
      "metadata": {
        "id": "ebHUQcpCqycP"
      },
      "execution_count": 17,
      "outputs": []
    },
    {
      "cell_type": "code",
      "source": [
        "def get_model():\n",
        "    inputs = Input((IMG_HEIGHT, IMG_WIDTH, IMG_CHANNELS))\n",
        "    s = inputs\n",
        "\n",
        "    c1 = Conv2D(16, (3, 3), activation='relu', kernel_initializer='he_normal', padding='same')(s)\n",
        "    c1 = Dropout(0.1)(c1)\n",
        "    c1 = Conv2D(16, (3, 3), activation='relu', kernel_initializer='he_normal', padding='same')(c1)\n",
        "    p1 = MaxPooling2D((2, 2))(c1)\n",
        "\n",
        "    c2 = Conv2D(32, (3, 3), activation='relu', kernel_initializer='he_normal', padding='same')(p1)\n",
        "    c2 = Dropout(0.1)(c2)\n",
        "    c2 = Conv2D(32, (3, 3), activation='relu', kernel_initializer='he_normal', padding='same')(c2)\n",
        "    p2 = MaxPooling2D((2, 2))(c2)\n",
        "\n",
        "    c3 = Conv2D(64, (3, 3), activation='relu', kernel_initializer='he_normal', padding='same')(p2)\n",
        "    c3 = Dropout(0.2)(c3)\n",
        "    c3 = Conv2D(64, (3, 3), activation='relu', kernel_initializer='he_normal', padding='same')(c3)\n",
        "    p3 = MaxPooling2D((2, 2))(c3)\n",
        "\n",
        "    c4 = Conv2D(128, (3, 3), activation='relu', kernel_initializer='he_normal', padding='same')(p3)\n",
        "    c4 = Dropout(0.2)(c4)\n",
        "    c4 = Conv2D(128, (3, 3), activation='relu', kernel_initializer='he_normal', padding='same')(c4)\n",
        "    p4 = MaxPooling2D(pool_size=(2, 2))(c4)\n",
        "\n",
        "    c5 = Conv2D(256, (3, 3), activation='relu', kernel_initializer='he_normal', padding='same')(p4)\n",
        "    c5 = Dropout(0.3)(c5)\n",
        "    c5 = Conv2D(256, (3, 3), activation='relu', kernel_initializer='he_normal', padding='same')(c5)\n",
        "\n",
        "    #Expansive path\n",
        "    u6 = Conv2DTranspose(128, (2, 2), strides=(2, 2), padding='same')(c5)\n",
        "    u6 = concatenate([u6, c4])\n",
        "    c6 = Conv2D(128, (3, 3), activation='relu', kernel_initializer='he_normal', padding='same')(u6)\n",
        "    c6 = Dropout(0.2)(c6)\n",
        "    c6 = Conv2D(128, (3, 3), activation='relu', kernel_initializer='he_normal', padding='same')(c6)\n",
        "\n",
        "    u7 = Conv2DTranspose(64, (2, 2), strides=(2, 2), padding='same')(c6)\n",
        "    u7 = concatenate([u7, c3])\n",
        "    c7 = Conv2D(64, (3, 3), activation='relu', kernel_initializer='he_normal', padding='same')(u7)\n",
        "    c7 = Dropout(0.2)(c7)\n",
        "    c7 = Conv2D(64, (3, 3), activation='relu', kernel_initializer='he_normal', padding='same')(c7)\n",
        "\n",
        "    u8 = Conv2DTranspose(32, (2, 2), strides=(2, 2), padding='same')(c7)\n",
        "    u8 = concatenate([u8, c2])\n",
        "    c8 = Conv2D(32, (3, 3), activation='relu', kernel_initializer='he_normal', padding='same')(u8)\n",
        "    c8 = Dropout(0.1)(c8)\n",
        "    c8 = Conv2D(32, (3, 3), activation='relu', kernel_initializer='he_normal', padding='same')(c8)\n",
        "\n",
        "    u9 = Conv2DTranspose(16, (2, 2), strides=(2, 2), padding='same')(c8)\n",
        "    u9 = concatenate([u9, c1], axis=3)\n",
        "    c9 = Conv2D(16, (3, 3), activation='relu', kernel_initializer='he_normal', padding='same')(u9)\n",
        "    c9 = Dropout(0.1)(c9)\n",
        "    c9 = Conv2D(16, (3, 3), activation='relu', kernel_initializer='he_normal', padding='same')(c9)\n",
        "\n",
        "    outputs = Conv2D(1, (1, 1), activation='sigmoid')(c9)\n",
        "    outputs = Activation('linear')(outputs)  # Add this line for saliency map\n",
        "\n",
        "    model = Model(inputs=[inputs], outputs=[outputs])\n",
        "\n",
        "    return model"
      ],
      "metadata": {
        "id": "wvaV3j9fq73i"
      },
      "execution_count": 18,
      "outputs": []
    },
    {
      "cell_type": "code",
      "source": [
        "model = get_model()\n",
        "model.summary()"
      ],
      "metadata": {
        "colab": {
          "base_uri": "https://localhost:8080/",
          "height": 0
        },
        "id": "PpTkFB9Iq-UG",
        "outputId": "6839f87b-7d0b-47a5-e3ef-d1d05ce0a503"
      },
      "execution_count": 19,
      "outputs": [
        {
          "output_type": "stream",
          "name": "stdout",
          "text": [
            "Model: \"model\"\n",
            "__________________________________________________________________________________________________\n",
            " Layer (type)                Output Shape                 Param #   Connected to                  \n",
            "==================================================================================================\n",
            " input_1 (InputLayer)        [(None, 128, 128, 3)]        0         []                            \n",
            "                                                                                                  \n",
            " conv2d (Conv2D)             (None, 128, 128, 16)         448       ['input_1[0][0]']             \n",
            "                                                                                                  \n",
            " dropout (Dropout)           (None, 128, 128, 16)         0         ['conv2d[0][0]']              \n",
            "                                                                                                  \n",
            " conv2d_1 (Conv2D)           (None, 128, 128, 16)         2320      ['dropout[0][0]']             \n",
            "                                                                                                  \n",
            " max_pooling2d (MaxPooling2  (None, 64, 64, 16)           0         ['conv2d_1[0][0]']            \n",
            " D)                                                                                               \n",
            "                                                                                                  \n",
            " conv2d_2 (Conv2D)           (None, 64, 64, 32)           4640      ['max_pooling2d[0][0]']       \n",
            "                                                                                                  \n",
            " dropout_1 (Dropout)         (None, 64, 64, 32)           0         ['conv2d_2[0][0]']            \n",
            "                                                                                                  \n",
            " conv2d_3 (Conv2D)           (None, 64, 64, 32)           9248      ['dropout_1[0][0]']           \n",
            "                                                                                                  \n",
            " max_pooling2d_1 (MaxPoolin  (None, 32, 32, 32)           0         ['conv2d_3[0][0]']            \n",
            " g2D)                                                                                             \n",
            "                                                                                                  \n",
            " conv2d_4 (Conv2D)           (None, 32, 32, 64)           18496     ['max_pooling2d_1[0][0]']     \n",
            "                                                                                                  \n",
            " dropout_2 (Dropout)         (None, 32, 32, 64)           0         ['conv2d_4[0][0]']            \n",
            "                                                                                                  \n",
            " conv2d_5 (Conv2D)           (None, 32, 32, 64)           36928     ['dropout_2[0][0]']           \n",
            "                                                                                                  \n",
            " max_pooling2d_2 (MaxPoolin  (None, 16, 16, 64)           0         ['conv2d_5[0][0]']            \n",
            " g2D)                                                                                             \n",
            "                                                                                                  \n",
            " conv2d_6 (Conv2D)           (None, 16, 16, 128)          73856     ['max_pooling2d_2[0][0]']     \n",
            "                                                                                                  \n",
            " dropout_3 (Dropout)         (None, 16, 16, 128)          0         ['conv2d_6[0][0]']            \n",
            "                                                                                                  \n",
            " conv2d_7 (Conv2D)           (None, 16, 16, 128)          147584    ['dropout_3[0][0]']           \n",
            "                                                                                                  \n",
            " max_pooling2d_3 (MaxPoolin  (None, 8, 8, 128)            0         ['conv2d_7[0][0]']            \n",
            " g2D)                                                                                             \n",
            "                                                                                                  \n",
            " conv2d_8 (Conv2D)           (None, 8, 8, 256)            295168    ['max_pooling2d_3[0][0]']     \n",
            "                                                                                                  \n",
            " dropout_4 (Dropout)         (None, 8, 8, 256)            0         ['conv2d_8[0][0]']            \n",
            "                                                                                                  \n",
            " conv2d_9 (Conv2D)           (None, 8, 8, 256)            590080    ['dropout_4[0][0]']           \n",
            "                                                                                                  \n",
            " conv2d_transpose (Conv2DTr  (None, 16, 16, 128)          131200    ['conv2d_9[0][0]']            \n",
            " anspose)                                                                                         \n",
            "                                                                                                  \n",
            " concatenate (Concatenate)   (None, 16, 16, 256)          0         ['conv2d_transpose[0][0]',    \n",
            "                                                                     'conv2d_7[0][0]']            \n",
            "                                                                                                  \n",
            " conv2d_10 (Conv2D)          (None, 16, 16, 128)          295040    ['concatenate[0][0]']         \n",
            "                                                                                                  \n",
            " dropout_5 (Dropout)         (None, 16, 16, 128)          0         ['conv2d_10[0][0]']           \n",
            "                                                                                                  \n",
            " conv2d_11 (Conv2D)          (None, 16, 16, 128)          147584    ['dropout_5[0][0]']           \n",
            "                                                                                                  \n",
            " conv2d_transpose_1 (Conv2D  (None, 32, 32, 64)           32832     ['conv2d_11[0][0]']           \n",
            " Transpose)                                                                                       \n",
            "                                                                                                  \n",
            " concatenate_1 (Concatenate  (None, 32, 32, 128)          0         ['conv2d_transpose_1[0][0]',  \n",
            " )                                                                   'conv2d_5[0][0]']            \n",
            "                                                                                                  \n",
            " conv2d_12 (Conv2D)          (None, 32, 32, 64)           73792     ['concatenate_1[0][0]']       \n",
            "                                                                                                  \n",
            " dropout_6 (Dropout)         (None, 32, 32, 64)           0         ['conv2d_12[0][0]']           \n",
            "                                                                                                  \n",
            " conv2d_13 (Conv2D)          (None, 32, 32, 64)           36928     ['dropout_6[0][0]']           \n",
            "                                                                                                  \n",
            " conv2d_transpose_2 (Conv2D  (None, 64, 64, 32)           8224      ['conv2d_13[0][0]']           \n",
            " Transpose)                                                                                       \n",
            "                                                                                                  \n",
            " concatenate_2 (Concatenate  (None, 64, 64, 64)           0         ['conv2d_transpose_2[0][0]',  \n",
            " )                                                                   'conv2d_3[0][0]']            \n",
            "                                                                                                  \n",
            " conv2d_14 (Conv2D)          (None, 64, 64, 32)           18464     ['concatenate_2[0][0]']       \n",
            "                                                                                                  \n",
            " dropout_7 (Dropout)         (None, 64, 64, 32)           0         ['conv2d_14[0][0]']           \n",
            "                                                                                                  \n",
            " conv2d_15 (Conv2D)          (None, 64, 64, 32)           9248      ['dropout_7[0][0]']           \n",
            "                                                                                                  \n",
            " conv2d_transpose_3 (Conv2D  (None, 128, 128, 16)         2064      ['conv2d_15[0][0]']           \n",
            " Transpose)                                                                                       \n",
            "                                                                                                  \n",
            " concatenate_3 (Concatenate  (None, 128, 128, 32)         0         ['conv2d_transpose_3[0][0]',  \n",
            " )                                                                   'conv2d_1[0][0]']            \n",
            "                                                                                                  \n",
            " conv2d_16 (Conv2D)          (None, 128, 128, 16)         4624      ['concatenate_3[0][0]']       \n",
            "                                                                                                  \n",
            " dropout_8 (Dropout)         (None, 128, 128, 16)         0         ['conv2d_16[0][0]']           \n",
            "                                                                                                  \n",
            " conv2d_17 (Conv2D)          (None, 128, 128, 16)         2320      ['dropout_8[0][0]']           \n",
            "                                                                                                  \n",
            " conv2d_18 (Conv2D)          (None, 128, 128, 1)          17        ['conv2d_17[0][0]']           \n",
            "                                                                                                  \n",
            " activation (Activation)     (None, 128, 128, 1)          0         ['conv2d_18[0][0]']           \n",
            "                                                                                                  \n",
            "==================================================================================================\n",
            "Total params: 1941105 (7.40 MB)\n",
            "Trainable params: 1941105 (7.40 MB)\n",
            "Non-trainable params: 0 (0.00 Byte)\n",
            "__________________________________________________________________________________________________\n"
          ]
        }
      ]
    },
    {
      "cell_type": "code",
      "source": [
        "model.compile(optimizer='adam', loss='binary_crossentropy', metrics=['mse'])"
      ],
      "metadata": {
        "id": "MiIdYqTurBHw"
      },
      "execution_count": 20,
      "outputs": []
    },
    {
      "cell_type": "code",
      "source": [
        "history=model.fit(x_train,\n",
        "          y_train,\n",
        "          batch_size=20,\n",
        "          epochs=50,\n",
        "          verbose=1,\n",
        "          validation_data=(x_val, y_val))"
      ],
      "metadata": {
        "colab": {
          "base_uri": "https://localhost:8080/",
          "height": 0
        },
        "id": "8jtdoC-DrGfe",
        "outputId": "6bfc5ac8-3cec-43d5-b8c9-fe939ecedafa"
      },
      "execution_count": 21,
      "outputs": [
        {
          "output_type": "stream",
          "name": "stdout",
          "text": [
            "Epoch 1/50\n",
            "32/32 [==============================] - 26s 157ms/step - loss: 0.3608 - mse: 0.1017 - val_loss: 0.3000 - val_mse: 0.0803\n",
            "Epoch 2/50\n",
            "32/32 [==============================] - 2s 65ms/step - loss: 0.2819 - mse: 0.0736 - val_loss: 0.2577 - val_mse: 0.0685\n",
            "Epoch 3/50\n",
            "32/32 [==============================] - 2s 65ms/step - loss: 0.2450 - mse: 0.0655 - val_loss: 0.2672 - val_mse: 0.0684\n",
            "Epoch 4/50\n",
            "32/32 [==============================] - 2s 64ms/step - loss: 0.2176 - mse: 0.0619 - val_loss: 0.2205 - val_mse: 0.0592\n",
            "Epoch 5/50\n",
            "32/32 [==============================] - 2s 63ms/step - loss: 0.1873 - mse: 0.0509 - val_loss: 0.2409 - val_mse: 0.0619\n",
            "Epoch 6/50\n",
            "32/32 [==============================] - 2s 66ms/step - loss: 0.1844 - mse: 0.0514 - val_loss: 0.1933 - val_mse: 0.0522\n",
            "Epoch 7/50\n",
            "32/32 [==============================] - 2s 64ms/step - loss: 0.1728 - mse: 0.0472 - val_loss: 0.1730 - val_mse: 0.0477\n",
            "Epoch 8/50\n",
            "32/32 [==============================] - 2s 64ms/step - loss: 0.1609 - mse: 0.0440 - val_loss: 0.1762 - val_mse: 0.0482\n",
            "Epoch 9/50\n",
            "32/32 [==============================] - 2s 63ms/step - loss: 0.1516 - mse: 0.0422 - val_loss: 0.1714 - val_mse: 0.0443\n",
            "Epoch 10/50\n",
            "32/32 [==============================] - 2s 64ms/step - loss: 0.1529 - mse: 0.0422 - val_loss: 0.1618 - val_mse: 0.0465\n",
            "Epoch 11/50\n",
            "32/32 [==============================] - 2s 65ms/step - loss: 0.1410 - mse: 0.0392 - val_loss: 0.1465 - val_mse: 0.0410\n",
            "Epoch 12/50\n",
            "32/32 [==============================] - 2s 64ms/step - loss: 0.1355 - mse: 0.0374 - val_loss: 0.1390 - val_mse: 0.0386\n",
            "Epoch 13/50\n",
            "32/32 [==============================] - 2s 67ms/step - loss: 0.1259 - mse: 0.0349 - val_loss: 0.1472 - val_mse: 0.0394\n",
            "Epoch 14/50\n",
            "32/32 [==============================] - 2s 63ms/step - loss: 0.1276 - mse: 0.0352 - val_loss: 0.1528 - val_mse: 0.0428\n",
            "Epoch 15/50\n",
            "32/32 [==============================] - 2s 63ms/step - loss: 0.1257 - mse: 0.0350 - val_loss: 0.1464 - val_mse: 0.0398\n",
            "Epoch 16/50\n",
            "32/32 [==============================] - 2s 65ms/step - loss: 0.1133 - mse: 0.0314 - val_loss: 0.1390 - val_mse: 0.0401\n",
            "Epoch 17/50\n",
            "32/32 [==============================] - 2s 63ms/step - loss: 0.1140 - mse: 0.0314 - val_loss: 0.1310 - val_mse: 0.0363\n",
            "Epoch 18/50\n",
            "32/32 [==============================] - 2s 64ms/step - loss: 0.1047 - mse: 0.0286 - val_loss: 0.1329 - val_mse: 0.0372\n",
            "Epoch 19/50\n",
            "32/32 [==============================] - 2s 65ms/step - loss: 0.1054 - mse: 0.0289 - val_loss: 0.1311 - val_mse: 0.0373\n",
            "Epoch 20/50\n",
            "32/32 [==============================] - 2s 65ms/step - loss: 0.0944 - mse: 0.0262 - val_loss: 0.1294 - val_mse: 0.0355\n",
            "Epoch 21/50\n",
            "32/32 [==============================] - 2s 62ms/step - loss: 0.0886 - mse: 0.0248 - val_loss: 0.1294 - val_mse: 0.0347\n",
            "Epoch 22/50\n",
            "32/32 [==============================] - 2s 65ms/step - loss: 0.0914 - mse: 0.0253 - val_loss: 0.1291 - val_mse: 0.0358\n",
            "Epoch 23/50\n",
            "32/32 [==============================] - 2s 63ms/step - loss: 0.0888 - mse: 0.0246 - val_loss: 0.1199 - val_mse: 0.0329\n",
            "Epoch 24/50\n",
            "32/32 [==============================] - 2s 66ms/step - loss: 0.0792 - mse: 0.0223 - val_loss: 0.1415 - val_mse: 0.0366\n",
            "Epoch 25/50\n",
            "32/32 [==============================] - 2s 64ms/step - loss: 0.0821 - mse: 0.0226 - val_loss: 0.1285 - val_mse: 0.0355\n",
            "Epoch 26/50\n",
            "32/32 [==============================] - 2s 63ms/step - loss: 0.0928 - mse: 0.0256 - val_loss: 0.1362 - val_mse: 0.0366\n",
            "Epoch 27/50\n",
            "32/32 [==============================] - 2s 63ms/step - loss: 0.0749 - mse: 0.0210 - val_loss: 0.1264 - val_mse: 0.0332\n",
            "Epoch 28/50\n",
            "32/32 [==============================] - 2s 63ms/step - loss: 0.0675 - mse: 0.0191 - val_loss: 0.1232 - val_mse: 0.0348\n",
            "Epoch 29/50\n",
            "32/32 [==============================] - 2s 65ms/step - loss: 0.0644 - mse: 0.0182 - val_loss: 0.1274 - val_mse: 0.0342\n",
            "Epoch 30/50\n",
            "32/32 [==============================] - 2s 65ms/step - loss: 0.0678 - mse: 0.0190 - val_loss: 0.1287 - val_mse: 0.0359\n",
            "Epoch 31/50\n",
            "32/32 [==============================] - 2s 67ms/step - loss: 0.0686 - mse: 0.0192 - val_loss: 0.1254 - val_mse: 0.0309\n",
            "Epoch 32/50\n",
            "32/32 [==============================] - 2s 65ms/step - loss: 0.0592 - mse: 0.0168 - val_loss: 0.1240 - val_mse: 0.0297\n",
            "Epoch 33/50\n",
            "32/32 [==============================] - 2s 63ms/step - loss: 0.0519 - mse: 0.0148 - val_loss: 0.1402 - val_mse: 0.0327\n",
            "Epoch 34/50\n",
            "32/32 [==============================] - 2s 65ms/step - loss: 0.0511 - mse: 0.0146 - val_loss: 0.1233 - val_mse: 0.0307\n",
            "Epoch 35/50\n",
            "32/32 [==============================] - 2s 66ms/step - loss: 0.0462 - mse: 0.0133 - val_loss: 0.1249 - val_mse: 0.0301\n",
            "Epoch 36/50\n",
            "32/32 [==============================] - 2s 65ms/step - loss: 0.0463 - mse: 0.0133 - val_loss: 0.1438 - val_mse: 0.0323\n",
            "Epoch 37/50\n",
            "32/32 [==============================] - 2s 67ms/step - loss: 0.0496 - mse: 0.0144 - val_loss: 0.1207 - val_mse: 0.0305\n",
            "Epoch 38/50\n",
            "32/32 [==============================] - 2s 65ms/step - loss: 0.0534 - mse: 0.0150 - val_loss: 0.1367 - val_mse: 0.0317\n",
            "Epoch 39/50\n",
            "32/32 [==============================] - 2s 67ms/step - loss: 0.0499 - mse: 0.0141 - val_loss: 0.1317 - val_mse: 0.0310\n",
            "Epoch 40/50\n",
            "32/32 [==============================] - 2s 66ms/step - loss: 0.0443 - mse: 0.0128 - val_loss: 0.1232 - val_mse: 0.0317\n",
            "Epoch 41/50\n",
            "32/32 [==============================] - 2s 65ms/step - loss: 0.0444 - mse: 0.0129 - val_loss: 0.1438 - val_mse: 0.0300\n",
            "Epoch 42/50\n",
            "32/32 [==============================] - 2s 67ms/step - loss: 0.0433 - mse: 0.0125 - val_loss: 0.1365 - val_mse: 0.0304\n",
            "Epoch 43/50\n",
            "32/32 [==============================] - 2s 66ms/step - loss: 0.0426 - mse: 0.0122 - val_loss: 0.1236 - val_mse: 0.0313\n",
            "Epoch 44/50\n",
            "32/32 [==============================] - 2s 66ms/step - loss: 0.0413 - mse: 0.0118 - val_loss: 0.1432 - val_mse: 0.0321\n",
            "Epoch 45/50\n",
            "32/32 [==============================] - 2s 66ms/step - loss: 0.0418 - mse: 0.0119 - val_loss: 0.1211 - val_mse: 0.0302\n",
            "Epoch 46/50\n",
            "32/32 [==============================] - 2s 64ms/step - loss: 0.0365 - mse: 0.0106 - val_loss: 0.1540 - val_mse: 0.0304\n",
            "Epoch 47/50\n",
            "32/32 [==============================] - 2s 65ms/step - loss: 0.0371 - mse: 0.0107 - val_loss: 0.1434 - val_mse: 0.0303\n",
            "Epoch 48/50\n",
            "32/32 [==============================] - 2s 67ms/step - loss: 0.0335 - mse: 0.0098 - val_loss: 0.1366 - val_mse: 0.0300\n",
            "Epoch 49/50\n",
            "32/32 [==============================] - 2s 64ms/step - loss: 0.0343 - mse: 0.0100 - val_loss: 0.1576 - val_mse: 0.0311\n",
            "Epoch 50/50\n",
            "32/32 [==============================] - 2s 65ms/step - loss: 0.0333 - mse: 0.0097 - val_loss: 0.1640 - val_mse: 0.0314\n"
          ]
        }
      ]
    },
    {
      "cell_type": "code",
      "source": [
        "import numpy as np\n",
        "\n",
        "def dice_coef(y_true, y_pred):\n",
        "    # Ensure that both y_true and y_pred have the same shape\n",
        "    y_pred = y_pred.reshape(y_true.shape)\n",
        "\n",
        "    intersection = np.sum(y_true * y_pred)\n",
        "    union = np.sum(y_true) + np.sum(y_pred)\n",
        "    return (2.0 * intersection) / (union + 1e-5)\n",
        "\n",
        "def jaccard_index(y_true, y_pred):\n",
        "    # Ensure that both y_true and y_pred have the same shape\n",
        "    y_pred = y_pred.reshape(y_true.shape)\n",
        "\n",
        "    intersection = np.sum(y_true * y_pred)\n",
        "    union = np.sum(y_true) + np.sum(y_pred) - intersection\n",
        "    return (intersection) / (union + 1e-5)\n",
        "\n",
        "def true_positives_ratio(y_true, y_pred):\n",
        "    # Ensure that both y_true and y_pred have the same shape\n",
        "    y_pred = y_pred.reshape(y_true.shape)\n",
        "\n",
        "    true_positives = np.sum(y_true * y_pred)\n",
        "    total_positives = np.sum(y_true)\n",
        "    return (true_positives) / (total_positives + 1e-5)\n",
        "\n",
        "def false_positives_ratio(y_true, y_pred):\n",
        "    # Ensure that both y_true and y_pred have the same shape\n",
        "    y_pred = y_pred.reshape(y_true.shape)\n",
        "\n",
        "    false_positives = np.sum((1 - y_true) * y_pred)\n",
        "    total_negatives = np.sum(1 - y_true)\n",
        "    return (false_positives) / (total_negatives + 1e-5)\n",
        "\n",
        "def global_accuracy(y_true, y_pred):\n",
        "    # Ensure that both y_true and y_pred have the same shape\n",
        "    y_pred = y_pred.reshape(y_true.shape)\n",
        "\n",
        "    correct_predictions = np.sum((y_true == 1) & (y_pred >= 0.5)) + np.sum((y_true == 0) & (y_pred < 0.5))\n",
        "    total_predictions = y_true.size\n",
        "    return (correct_predictions) / (total_predictions + 1e-5)\n",
        "\n",
        "# Calculate metrics\n",
        "y_pred = model.predict(x_val)  # Replace with your validation data\n",
        "y_pred = (y_pred > 0.5).astype(int)  # Convert probabilities to binary masks\n",
        "\n",
        "dsc = dice_coef(y_val, y_pred)\n",
        "ji = jaccard_index(y_val, y_pred)\n",
        "tpr = true_positives_ratio(y_val, y_pred)\n",
        "fpr = false_positives_ratio(y_val, y_pred)\n",
        "acc = global_accuracy(y_val, y_pred)\n",
        "\n",
        "print(f\"Dice Similarity Coefficient (DSC): {dsc}\")\n",
        "print(f\"Jaccard Index (JI): {ji}\")\n",
        "print(f\"True Positives Ratio (TPR): {tpr}\")\n",
        "print(f\"False Positives Ratio (FPR): {fpr}\")\n",
        "print(f\"Global Accuracy (ACC): {acc}\")\n"
      ],
      "metadata": {
        "colab": {
          "base_uri": "https://localhost:8080/",
          "height": 0
        },
        "id": "aB_fEDmHrI7Q",
        "outputId": "578091be-9da3-4971-923a-e3b6f1295ec7"
      },
      "execution_count": 22,
      "outputs": [
        {
          "output_type": "stream",
          "name": "stdout",
          "text": [
            "5/5 [==============================] - 2s 215ms/step\n",
            "Dice Similarity Coefficient (DSC): 0.7232999079597314\n",
            "Jaccard Index (JI): 0.5665386197347574\n",
            "True Positives Ratio (TPR): 0.6646421275570253\n",
            "False Positives Ratio (FPR): 0.014331674665710208\n",
            "Global Accuracy (ACC): 0.9600677490196812\n"
          ]
        }
      ]
    },
    {
      "cell_type": "markdown",
      "source": [
        "https://www.kaggle.com/code/owaistahir/unet-for-breast-cancer-tumors-segmentation\n"
      ],
      "metadata": {
        "id": "mYpEhiJSCR_x"
      }
    },
    {
      "cell_type": "code",
      "source": [],
      "metadata": {
        "id": "GgD-VRniCfIo"
      },
      "execution_count": null,
      "outputs": []
    }
  ]
}